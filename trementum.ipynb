{
 "cells": [
  {
   "cell_type": "code",
   "execution_count": 1,
   "id": "b7678db2-5594-4624-9128-4ff85945aea8",
   "metadata": {},
   "outputs": [],
   "source": [
    "import pandas as pd\n",
    "import seaborn as sns\n",
    "import matplotlib.pyplot as plt"
   ]
  },
  {
   "cell_type": "code",
   "execution_count": 2,
   "id": "70ccf66b-06d9-40b6-beec-ba8f7547484f",
   "metadata": {},
   "outputs": [],
   "source": [
    "# load data\n",
    "accounts = pd.read_csv('accounts.csv')\n",
    "posts = pd.read_csv('posts.csv')\n",
    "followers = pd.read_csv('sources_for_followers.csv')"
   ]
  },
  {
   "cell_type": "markdown",
   "id": "7bc57a54-91eb-4435-b817-86361273d73f",
   "metadata": {},
   "source": [
    "Let's have a look at each dataset"
   ]
  },
  {
   "cell_type": "code",
   "execution_count": 3,
   "id": "b47e7d4d-0a98-4eaa-bb28-65265fb8305e",
   "metadata": {},
   "outputs": [
    {
     "data": {
      "text/plain": [
       "(1138, 5)"
      ]
     },
     "metadata": {},
     "output_type": "display_data"
    },
    {
     "data": {
      "text/html": [
       "<div>\n",
       "<style scoped>\n",
       "    .dataframe tbody tr th:only-of-type {\n",
       "        vertical-align: middle;\n",
       "    }\n",
       "\n",
       "    .dataframe tbody tr th {\n",
       "        vertical-align: top;\n",
       "    }\n",
       "\n",
       "    .dataframe thead th {\n",
       "        text-align: right;\n",
       "    }\n",
       "</style>\n",
       "<table border=\"1\" class=\"dataframe\">\n",
       "  <thead>\n",
       "    <tr style=\"text-align: right;\">\n",
       "      <th></th>\n",
       "      <th>id</th>\n",
       "      <th>created_time</th>\n",
       "      <th>profile_id</th>\n",
       "      <th>text_original</th>\n",
       "      <th>comments_count</th>\n",
       "    </tr>\n",
       "  </thead>\n",
       "  <tbody>\n",
       "    <tr>\n",
       "      <th>0</th>\n",
       "      <td>2318039031731205</td>\n",
       "      <td>2023-04-24 12:29:35+00</td>\n",
       "      <td>100068846905135</td>\n",
       "      <td>Smerenia pleacă din inima ta</td>\n",
       "      <td>0</td>\n",
       "    </tr>\n",
       "    <tr>\n",
       "      <th>1</th>\n",
       "      <td>2318026655065776</td>\n",
       "      <td>2023-04-24 12:07:02+00</td>\n",
       "      <td>100068846905135</td>\n",
       "      <td># Sfântul în Arsenie Boca # Nu ignora puneţi o...</td>\n",
       "      <td>22</td>\n",
       "    </tr>\n",
       "  </tbody>\n",
       "</table>\n",
       "</div>"
      ],
      "text/plain": [
       "                 id            created_time       profile_id  \\\n",
       "0  2318039031731205  2023-04-24 12:29:35+00  100068846905135   \n",
       "1  2318026655065776  2023-04-24 12:07:02+00  100068846905135   \n",
       "\n",
       "                                       text_original  comments_count  \n",
       "0                       Smerenia pleacă din inima ta               0  \n",
       "1  # Sfântul în Arsenie Boca # Nu ignora puneţi o...              22  "
      ]
     },
     "metadata": {},
     "output_type": "display_data"
    }
   ],
   "source": [
    "display(posts.shape)\n",
    "display(posts.head(2))"
   ]
  },
  {
   "cell_type": "code",
   "execution_count": 4,
   "id": "4d67843d-ccd4-4338-952c-326d251e3fdd",
   "metadata": {},
   "outputs": [
    {
     "data": {
      "text/plain": [
       "(30, 9)"
      ]
     },
     "metadata": {},
     "output_type": "display_data"
    },
    {
     "data": {
      "text/html": [
       "<div>\n",
       "<style scoped>\n",
       "    .dataframe tbody tr th:only-of-type {\n",
       "        vertical-align: middle;\n",
       "    }\n",
       "\n",
       "    .dataframe tbody tr th {\n",
       "        vertical-align: top;\n",
       "    }\n",
       "\n",
       "    .dataframe thead th {\n",
       "        text-align: right;\n",
       "    }\n",
       "</style>\n",
       "<table border=\"1\" class=\"dataframe\">\n",
       "  <thead>\n",
       "    <tr style=\"text-align: right;\">\n",
       "      <th></th>\n",
       "      <th>id</th>\n",
       "      <th>username</th>\n",
       "      <th>full_name</th>\n",
       "      <th>description</th>\n",
       "      <th>is_verified</th>\n",
       "      <th>restricted</th>\n",
       "      <th>_id</th>\n",
       "      <th>_status</th>\n",
       "      <th>id_alt</th>\n",
       "    </tr>\n",
       "  </thead>\n",
       "  <tbody>\n",
       "    <tr>\n",
       "      <th>0</th>\n",
       "      <td>100063695660293</td>\n",
       "      <td>ukraina.ru</td>\n",
       "      <td>Украина.ру</td>\n",
       "      <td>Информационно-аналитическое издание «Украина.ру»</td>\n",
       "      <td>False</td>\n",
       "      <td>NaN</td>\n",
       "      <td>378</td>\n",
       "      <td>downloaded</td>\n",
       "      <td>NaN</td>\n",
       "    </tr>\n",
       "    <tr>\n",
       "      <th>1</th>\n",
       "      <td>144698628932572</td>\n",
       "      <td>tassagency</td>\n",
       "      <td>ТАСС</td>\n",
       "      <td>Информационное агентство России \"ТАСС\" - Крупн...</td>\n",
       "      <td>True</td>\n",
       "      <td>NaN</td>\n",
       "      <td>364</td>\n",
       "      <td>downloaded</td>\n",
       "      <td>NaN</td>\n",
       "    </tr>\n",
       "  </tbody>\n",
       "</table>\n",
       "</div>"
      ],
      "text/plain": [
       "                id    username   full_name  \\\n",
       "0  100063695660293  ukraina.ru  Украина.ру   \n",
       "1  144698628932572  tassagency        ТАСС   \n",
       "\n",
       "                                         description is_verified  restricted  \\\n",
       "0   Информационно-аналитическое издание «Украина.ру»       False         NaN   \n",
       "1  Информационное агентство России \"ТАСС\" - Крупн...        True         NaN   \n",
       "\n",
       "   _id     _status  id_alt  \n",
       "0  378  downloaded     NaN  \n",
       "1  364  downloaded     NaN  "
      ]
     },
     "metadata": {},
     "output_type": "display_data"
    }
   ],
   "source": [
    "display(accounts.shape)\n",
    "display(accounts.head(2))"
   ]
  },
  {
   "cell_type": "code",
   "execution_count": 5,
   "id": "b7b9ebf9-6dc9-4a10-a558-4072b3e71fa7",
   "metadata": {},
   "outputs": [
    {
     "data": {
      "text/plain": [
       "(30, 2)"
      ]
     },
     "metadata": {},
     "output_type": "display_data"
    },
    {
     "data": {
      "text/html": [
       "<div>\n",
       "<style scoped>\n",
       "    .dataframe tbody tr th:only-of-type {\n",
       "        vertical-align: middle;\n",
       "    }\n",
       "\n",
       "    .dataframe tbody tr th {\n",
       "        vertical-align: top;\n",
       "    }\n",
       "\n",
       "    .dataframe thead th {\n",
       "        text-align: right;\n",
       "    }\n",
       "</style>\n",
       "<table border=\"1\" class=\"dataframe\">\n",
       "  <thead>\n",
       "    <tr style=\"text-align: right;\">\n",
       "      <th></th>\n",
       "      <th>_id</th>\n",
       "      <th>followers_count</th>\n",
       "    </tr>\n",
       "  </thead>\n",
       "  <tbody>\n",
       "    <tr>\n",
       "      <th>0</th>\n",
       "      <td>378</td>\n",
       "      <td>38000</td>\n",
       "    </tr>\n",
       "    <tr>\n",
       "      <th>1</th>\n",
       "      <td>364</td>\n",
       "      <td>761570</td>\n",
       "    </tr>\n",
       "  </tbody>\n",
       "</table>\n",
       "</div>"
      ],
      "text/plain": [
       "   _id  followers_count\n",
       "0  378            38000\n",
       "1  364           761570"
      ]
     },
     "metadata": {},
     "output_type": "display_data"
    }
   ],
   "source": [
    "display(followers.shape)\n",
    "display(followers.head(2))"
   ]
  },
  {
   "cell_type": "markdown",
   "id": "efc9d2a5-25a9-42d9-8967-d84952b2582b",
   "metadata": {},
   "source": [
    "Okay, first things first, we'll merge the `posts` and `accounts` dataframes. Now, the key names for joining these two dataframes are different, so let's rename column `id` in `accounts` to `profile_id`."
   ]
  },
  {
   "cell_type": "code",
   "execution_count": 6,
   "id": "8f689a18-1b7a-40ef-bd91-1c142186ac92",
   "metadata": {},
   "outputs": [],
   "source": [
    "# rename 'id' in 'accounts' to 'profile_id'\n",
    "accounts.rename(columns={'id': 'profile_id'}, inplace=True)\n",
    "# merge the 'posts' and 'accounts'\n",
    "posts_and_accounts = pd.merge(posts, accounts, how='left', left_on='profile_id', right_on='profile_id')"
   ]
  },
  {
   "cell_type": "code",
   "execution_count": 7,
   "id": "19462bd5-cf53-4c50-9b1f-549dba7479cd",
   "metadata": {},
   "outputs": [
    {
     "data": {
      "text/plain": [
       "(1138, 13)"
      ]
     },
     "metadata": {},
     "output_type": "display_data"
    },
    {
     "data": {
      "text/html": [
       "<div>\n",
       "<style scoped>\n",
       "    .dataframe tbody tr th:only-of-type {\n",
       "        vertical-align: middle;\n",
       "    }\n",
       "\n",
       "    .dataframe tbody tr th {\n",
       "        vertical-align: top;\n",
       "    }\n",
       "\n",
       "    .dataframe thead th {\n",
       "        text-align: right;\n",
       "    }\n",
       "</style>\n",
       "<table border=\"1\" class=\"dataframe\">\n",
       "  <thead>\n",
       "    <tr style=\"text-align: right;\">\n",
       "      <th></th>\n",
       "      <th>id</th>\n",
       "      <th>created_time</th>\n",
       "      <th>profile_id</th>\n",
       "      <th>text_original</th>\n",
       "      <th>comments_count</th>\n",
       "      <th>username</th>\n",
       "      <th>full_name</th>\n",
       "      <th>description</th>\n",
       "      <th>is_verified</th>\n",
       "      <th>restricted</th>\n",
       "      <th>_id</th>\n",
       "      <th>_status</th>\n",
       "      <th>id_alt</th>\n",
       "    </tr>\n",
       "  </thead>\n",
       "  <tbody>\n",
       "    <tr>\n",
       "      <th>0</th>\n",
       "      <td>2318039031731205</td>\n",
       "      <td>2023-04-24 12:29:35+00</td>\n",
       "      <td>100068846905135</td>\n",
       "      <td>Smerenia pleacă din inima ta</td>\n",
       "      <td>0</td>\n",
       "      <td>russembangola</td>\n",
       "      <td>Embaixada da Federação da Rússia na República ...</td>\n",
       "      <td>A página oficial da Embaixada da Rússia em Ang...</td>\n",
       "      <td>True</td>\n",
       "      <td>NaN</td>\n",
       "      <td>3.0</td>\n",
       "      <td>downloaded</td>\n",
       "      <td>NaN</td>\n",
       "    </tr>\n",
       "    <tr>\n",
       "      <th>1</th>\n",
       "      <td>2318026655065776</td>\n",
       "      <td>2023-04-24 12:07:02+00</td>\n",
       "      <td>100068846905135</td>\n",
       "      <td># Sfântul în Arsenie Boca # Nu ignora puneţi o...</td>\n",
       "      <td>22</td>\n",
       "      <td>russembangola</td>\n",
       "      <td>Embaixada da Federação da Rússia na República ...</td>\n",
       "      <td>A página oficial da Embaixada da Rússia em Ang...</td>\n",
       "      <td>True</td>\n",
       "      <td>NaN</td>\n",
       "      <td>3.0</td>\n",
       "      <td>downloaded</td>\n",
       "      <td>NaN</td>\n",
       "    </tr>\n",
       "  </tbody>\n",
       "</table>\n",
       "</div>"
      ],
      "text/plain": [
       "                 id            created_time       profile_id  \\\n",
       "0  2318039031731205  2023-04-24 12:29:35+00  100068846905135   \n",
       "1  2318026655065776  2023-04-24 12:07:02+00  100068846905135   \n",
       "\n",
       "                                       text_original  comments_count  \\\n",
       "0                       Smerenia pleacă din inima ta               0   \n",
       "1  # Sfântul în Arsenie Boca # Nu ignora puneţi o...              22   \n",
       "\n",
       "        username                                          full_name  \\\n",
       "0  russembangola  Embaixada da Federação da Rússia na República ...   \n",
       "1  russembangola  Embaixada da Federação da Rússia na República ...   \n",
       "\n",
       "                                         description is_verified  restricted  \\\n",
       "0  A página oficial da Embaixada da Rússia em Ang...        True         NaN   \n",
       "1  A página oficial da Embaixada da Rússia em Ang...        True         NaN   \n",
       "\n",
       "   _id     _status  id_alt  \n",
       "0  3.0  downloaded     NaN  \n",
       "1  3.0  downloaded     NaN  "
      ]
     },
     "metadata": {},
     "output_type": "display_data"
    }
   ],
   "source": [
    "display(posts_and_accounts.shape)\n",
    "display(posts_and_accounts.head(2))"
   ]
  },
  {
   "cell_type": "markdown",
   "id": "b1bafcc4-fe4f-4686-bad4-2cf7f8801dd1",
   "metadata": {},
   "source": [
    "Okay, the merge seems good. \n",
    "Now, let's procceed with merging `posts_and_accounts` and `followers` dataframes"
   ]
  },
  {
   "cell_type": "code",
   "execution_count": 8,
   "id": "47fab9fb-9d1b-447c-96b9-5ef7e23cd3bb",
   "metadata": {},
   "outputs": [],
   "source": [
    "# Merge 'posts_and_accounts' and 'followers'\n",
    "dataset = pd.merge(posts_and_accounts, followers, how='left', left_on='_id', right_on='_id')"
   ]
  },
  {
   "cell_type": "markdown",
   "id": "5b4f5da7-2f6c-4182-9f7c-818c5de1f568",
   "metadata": {},
   "source": [
    "Let's have a glimpse on a complete `dataset`"
   ]
  },
  {
   "cell_type": "code",
   "execution_count": 9,
   "id": "6b003374-0f66-4c25-9359-669d05da4402",
   "metadata": {},
   "outputs": [
    {
     "data": {
      "text/plain": [
       "(1138, 14)"
      ]
     },
     "metadata": {},
     "output_type": "display_data"
    },
    {
     "data": {
      "text/html": [
       "<div>\n",
       "<style scoped>\n",
       "    .dataframe tbody tr th:only-of-type {\n",
       "        vertical-align: middle;\n",
       "    }\n",
       "\n",
       "    .dataframe tbody tr th {\n",
       "        vertical-align: top;\n",
       "    }\n",
       "\n",
       "    .dataframe thead th {\n",
       "        text-align: right;\n",
       "    }\n",
       "</style>\n",
       "<table border=\"1\" class=\"dataframe\">\n",
       "  <thead>\n",
       "    <tr style=\"text-align: right;\">\n",
       "      <th></th>\n",
       "      <th>id</th>\n",
       "      <th>created_time</th>\n",
       "      <th>profile_id</th>\n",
       "      <th>text_original</th>\n",
       "      <th>comments_count</th>\n",
       "      <th>username</th>\n",
       "      <th>full_name</th>\n",
       "      <th>description</th>\n",
       "      <th>is_verified</th>\n",
       "      <th>restricted</th>\n",
       "      <th>_id</th>\n",
       "      <th>_status</th>\n",
       "      <th>id_alt</th>\n",
       "      <th>followers_count</th>\n",
       "    </tr>\n",
       "  </thead>\n",
       "  <tbody>\n",
       "    <tr>\n",
       "      <th>0</th>\n",
       "      <td>2318039031731205</td>\n",
       "      <td>2023-04-24 12:29:35+00</td>\n",
       "      <td>100068846905135</td>\n",
       "      <td>Smerenia pleacă din inima ta</td>\n",
       "      <td>0</td>\n",
       "      <td>russembangola</td>\n",
       "      <td>Embaixada da Federação da Rússia na República ...</td>\n",
       "      <td>A página oficial da Embaixada da Rússia em Ang...</td>\n",
       "      <td>True</td>\n",
       "      <td>NaN</td>\n",
       "      <td>3.0</td>\n",
       "      <td>downloaded</td>\n",
       "      <td>NaN</td>\n",
       "      <td>26000.0</td>\n",
       "    </tr>\n",
       "    <tr>\n",
       "      <th>1</th>\n",
       "      <td>2318026655065776</td>\n",
       "      <td>2023-04-24 12:07:02+00</td>\n",
       "      <td>100068846905135</td>\n",
       "      <td># Sfântul în Arsenie Boca # Nu ignora puneţi o...</td>\n",
       "      <td>22</td>\n",
       "      <td>russembangola</td>\n",
       "      <td>Embaixada da Federação da Rússia na República ...</td>\n",
       "      <td>A página oficial da Embaixada da Rússia em Ang...</td>\n",
       "      <td>True</td>\n",
       "      <td>NaN</td>\n",
       "      <td>3.0</td>\n",
       "      <td>downloaded</td>\n",
       "      <td>NaN</td>\n",
       "      <td>26000.0</td>\n",
       "    </tr>\n",
       "  </tbody>\n",
       "</table>\n",
       "</div>"
      ],
      "text/plain": [
       "                 id            created_time       profile_id  \\\n",
       "0  2318039031731205  2023-04-24 12:29:35+00  100068846905135   \n",
       "1  2318026655065776  2023-04-24 12:07:02+00  100068846905135   \n",
       "\n",
       "                                       text_original  comments_count  \\\n",
       "0                       Smerenia pleacă din inima ta               0   \n",
       "1  # Sfântul în Arsenie Boca # Nu ignora puneţi o...              22   \n",
       "\n",
       "        username                                          full_name  \\\n",
       "0  russembangola  Embaixada da Federação da Rússia na República ...   \n",
       "1  russembangola  Embaixada da Federação da Rússia na República ...   \n",
       "\n",
       "                                         description is_verified  restricted  \\\n",
       "0  A página oficial da Embaixada da Rússia em Ang...        True         NaN   \n",
       "1  A página oficial da Embaixada da Rússia em Ang...        True         NaN   \n",
       "\n",
       "   _id     _status  id_alt  followers_count  \n",
       "0  3.0  downloaded     NaN          26000.0  \n",
       "1  3.0  downloaded     NaN          26000.0  "
      ]
     },
     "metadata": {},
     "output_type": "display_data"
    },
    {
     "data": {
      "text/html": [
       "<div>\n",
       "<style scoped>\n",
       "    .dataframe tbody tr th:only-of-type {\n",
       "        vertical-align: middle;\n",
       "    }\n",
       "\n",
       "    .dataframe tbody tr th {\n",
       "        vertical-align: top;\n",
       "    }\n",
       "\n",
       "    .dataframe thead th {\n",
       "        text-align: right;\n",
       "    }\n",
       "</style>\n",
       "<table border=\"1\" class=\"dataframe\">\n",
       "  <thead>\n",
       "    <tr style=\"text-align: right;\">\n",
       "      <th></th>\n",
       "      <th>id</th>\n",
       "      <th>created_time</th>\n",
       "      <th>profile_id</th>\n",
       "      <th>text_original</th>\n",
       "      <th>comments_count</th>\n",
       "      <th>username</th>\n",
       "      <th>full_name</th>\n",
       "      <th>description</th>\n",
       "      <th>is_verified</th>\n",
       "      <th>restricted</th>\n",
       "      <th>_id</th>\n",
       "      <th>_status</th>\n",
       "      <th>id_alt</th>\n",
       "      <th>followers_count</th>\n",
       "    </tr>\n",
       "  </thead>\n",
       "  <tbody>\n",
       "    <tr>\n",
       "      <th>1136</th>\n",
       "      <td>201497592672108</td>\n",
       "      <td>2023-04-22 07:57:01+00</td>\n",
       "      <td>100064898132087</td>\n",
       "      <td>Jelentősen csökkent a gáz- és az áramfogyasztá...</td>\n",
       "      <td>1</td>\n",
       "      <td>ambrusitalia</td>\n",
       "      <td>Ambasciata della Federazione Russa in Italia /...</td>\n",
       "      <td>Il profilo ufficiale dell'Ambasciata della Fed...</td>\n",
       "      <td>True</td>\n",
       "      <td>NaN</td>\n",
       "      <td>603.0</td>\n",
       "      <td>downloaded</td>\n",
       "      <td>NaN</td>\n",
       "      <td>38000.0</td>\n",
       "    </tr>\n",
       "    <tr>\n",
       "      <th>1137</th>\n",
       "      <td>20148557267331</td>\n",
       "      <td>2023-04-22 07:27:05+00</td>\n",
       "      <td>100064898132087</td>\n",
       "      <td>A Leopoldinát 1652-ben alapították Academia Na...</td>\n",
       "      <td>51</td>\n",
       "      <td>ambrusitalia</td>\n",
       "      <td>Ambasciata della Federazione Russa in Italia /...</td>\n",
       "      <td>Il profilo ufficiale dell'Ambasciata della Fed...</td>\n",
       "      <td>True</td>\n",
       "      <td>NaN</td>\n",
       "      <td>603.0</td>\n",
       "      <td>downloaded</td>\n",
       "      <td>NaN</td>\n",
       "      <td>38000.0</td>\n",
       "    </tr>\n",
       "  </tbody>\n",
       "</table>\n",
       "</div>"
      ],
      "text/plain": [
       "                   id            created_time       profile_id  \\\n",
       "1136  201497592672108  2023-04-22 07:57:01+00  100064898132087   \n",
       "1137   20148557267331  2023-04-22 07:27:05+00  100064898132087   \n",
       "\n",
       "                                          text_original  comments_count  \\\n",
       "1136  Jelentősen csökkent a gáz- és az áramfogyasztá...               1   \n",
       "1137  A Leopoldinát 1652-ben alapították Academia Na...              51   \n",
       "\n",
       "          username                                          full_name  \\\n",
       "1136  ambrusitalia  Ambasciata della Federazione Russa in Italia /...   \n",
       "1137  ambrusitalia  Ambasciata della Federazione Russa in Italia /...   \n",
       "\n",
       "                                            description is_verified  \\\n",
       "1136  Il profilo ufficiale dell'Ambasciata della Fed...        True   \n",
       "1137  Il profilo ufficiale dell'Ambasciata della Fed...        True   \n",
       "\n",
       "      restricted    _id     _status  id_alt  followers_count  \n",
       "1136         NaN  603.0  downloaded     NaN          38000.0  \n",
       "1137         NaN  603.0  downloaded     NaN          38000.0  "
      ]
     },
     "metadata": {},
     "output_type": "display_data"
    }
   ],
   "source": [
    "display(dataset.shape)\n",
    "display(dataset.head(2))\n",
    "display(dataset.tail(2))"
   ]
  },
  {
   "cell_type": "markdown",
   "id": "2404fc2b-241d-4072-997e-8a2037ab77d5",
   "metadata": {},
   "source": [
    "Below we can see that columns `restricted` and `id_alt` contain no values.\n",
    "Therefore we can drop those since we can't gain any useful information for our analysis from those."
   ]
  },
  {
   "cell_type": "code",
   "execution_count": 10,
   "id": "90661b46-ba36-4b07-a774-6169d8a44aee",
   "metadata": {},
   "outputs": [
    {
     "data": {
      "text/plain": [
       "id                 1138\n",
       "created_time       1138\n",
       "profile_id         1138\n",
       "text_original      1138\n",
       "comments_count     1138\n",
       "username            943\n",
       "full_name          1021\n",
       "description         982\n",
       "is_verified         904\n",
       "restricted            0\n",
       "_id                1021\n",
       "_status            1021\n",
       "id_alt                0\n",
       "followers_count    1021\n",
       "dtype: int64"
      ]
     },
     "execution_count": 10,
     "metadata": {},
     "output_type": "execute_result"
    }
   ],
   "source": [
    "dataset.count()"
   ]
  },
  {
   "cell_type": "code",
   "execution_count": 11,
   "id": "23be7828-8a20-4f2d-99a2-98023f31ea04",
   "metadata": {},
   "outputs": [],
   "source": [
    "dataset.drop('restricted', axis=1, inplace=True)"
   ]
  },
  {
   "cell_type": "code",
   "execution_count": 12,
   "id": "26d82927-810f-4330-aca1-eb7deaa8ae8b",
   "metadata": {},
   "outputs": [],
   "source": [
    "dataset.drop('id_alt', axis=1, inplace=True)"
   ]
  },
  {
   "cell_type": "markdown",
   "id": "3a63abf4-abe8-4226-8c71-e16920b8afaa",
   "metadata": {},
   "source": [
    "We can also drop `_id` and `_status` as they don't carry useful data for us atm."
   ]
  },
  {
   "cell_type": "code",
   "execution_count": 13,
   "id": "796c41c1-6c06-4753-ac7a-383c3601dda1",
   "metadata": {},
   "outputs": [],
   "source": [
    "dataset.drop('_id', axis=1, inplace=True)"
   ]
  },
  {
   "cell_type": "code",
   "execution_count": 14,
   "id": "9cd76638-3e3a-4724-aa4c-fdfd14240017",
   "metadata": {},
   "outputs": [],
   "source": [
    "dataset.drop('_status', axis=1, inplace=True)"
   ]
  },
  {
   "cell_type": "markdown",
   "id": "e94da496-f221-40ce-a54f-54379cd55334",
   "metadata": {},
   "source": [
    "Let's check how many entries contain null values and drop those"
   ]
  },
  {
   "cell_type": "code",
   "execution_count": 15,
   "id": "ba4e0e93-ddcd-4117-97d7-efa0b01d17dd",
   "metadata": {},
   "outputs": [
    {
     "data": {
      "text/plain": [
       "id                   0\n",
       "created_time         0\n",
       "profile_id           0\n",
       "text_original        0\n",
       "comments_count       0\n",
       "username           195\n",
       "full_name          117\n",
       "description        156\n",
       "is_verified        234\n",
       "followers_count    117\n",
       "dtype: int64"
      ]
     },
     "execution_count": 15,
     "metadata": {},
     "output_type": "execute_result"
    }
   ],
   "source": [
    "dataset.isnull().sum()"
   ]
  },
  {
   "cell_type": "code",
   "execution_count": 16,
   "id": "2a36c741-9ebf-454e-94b0-f73bb92d4ca7",
   "metadata": {},
   "outputs": [],
   "source": [
    "data = dataset.dropna()"
   ]
  },
  {
   "cell_type": "markdown",
   "id": "5a116dea-d6b1-4494-b52a-6d9235ef1383",
   "metadata": {},
   "source": [
    "Just so it is more clear to work with colunms I will rename `id` to `post_id`"
   ]
  },
  {
   "cell_type": "code",
   "execution_count": 17,
   "id": "ab890326-9ddb-477c-b7d9-95ff9dcf8fbe",
   "metadata": {},
   "outputs": [],
   "source": [
    "data = data.rename(columns={'id': 'post_id'})"
   ]
  },
  {
   "cell_type": "markdown",
   "id": "10a8df2a-cf26-4c1e-bc1e-b2df04ec95af",
   "metadata": {},
   "source": [
    "After dropping nulls, around 200 entries, we are now left with around 900 entries of a complete data"
   ]
  },
  {
   "cell_type": "code",
   "execution_count": 18,
   "id": "7232396c-a181-43c4-b03f-c4cd91bc07e3",
   "metadata": {},
   "outputs": [
    {
     "name": "stdout",
     "output_type": "stream",
     "text": [
      "<class 'pandas.core.frame.DataFrame'>\n",
      "Index: 904 entries, 0 to 1137\n",
      "Data columns (total 10 columns):\n",
      " #   Column           Non-Null Count  Dtype  \n",
      "---  ------           --------------  -----  \n",
      " 0   post_id          904 non-null    int64  \n",
      " 1   created_time     904 non-null    object \n",
      " 2   profile_id       904 non-null    int64  \n",
      " 3   text_original    904 non-null    object \n",
      " 4   comments_count   904 non-null    int64  \n",
      " 5   username         904 non-null    object \n",
      " 6   full_name        904 non-null    object \n",
      " 7   description      904 non-null    object \n",
      " 8   is_verified      904 non-null    object \n",
      " 9   followers_count  904 non-null    float64\n",
      "dtypes: float64(1), int64(3), object(6)\n",
      "memory usage: 77.7+ KB\n"
     ]
    }
   ],
   "source": [
    "data.info()"
   ]
  },
  {
   "cell_type": "code",
   "execution_count": 19,
   "id": "41ffbf35-4668-47d2-a78d-b8d28f4e267c",
   "metadata": {},
   "outputs": [
    {
     "data": {
      "text/html": [
       "<div>\n",
       "<style scoped>\n",
       "    .dataframe tbody tr th:only-of-type {\n",
       "        vertical-align: middle;\n",
       "    }\n",
       "\n",
       "    .dataframe tbody tr th {\n",
       "        vertical-align: top;\n",
       "    }\n",
       "\n",
       "    .dataframe thead th {\n",
       "        text-align: right;\n",
       "    }\n",
       "</style>\n",
       "<table border=\"1\" class=\"dataframe\">\n",
       "  <thead>\n",
       "    <tr style=\"text-align: right;\">\n",
       "      <th></th>\n",
       "      <th>post_id</th>\n",
       "      <th>created_time</th>\n",
       "      <th>profile_id</th>\n",
       "      <th>text_original</th>\n",
       "      <th>comments_count</th>\n",
       "      <th>username</th>\n",
       "      <th>full_name</th>\n",
       "      <th>description</th>\n",
       "      <th>is_verified</th>\n",
       "      <th>followers_count</th>\n",
       "    </tr>\n",
       "  </thead>\n",
       "  <tbody>\n",
       "    <tr>\n",
       "      <th>0</th>\n",
       "      <td>2318039031731205</td>\n",
       "      <td>2023-04-24 12:29:35+00</td>\n",
       "      <td>100068846905135</td>\n",
       "      <td>Smerenia pleacă din inima ta</td>\n",
       "      <td>0</td>\n",
       "      <td>russembangola</td>\n",
       "      <td>Embaixada da Federação da Rússia na República ...</td>\n",
       "      <td>A página oficial da Embaixada da Rússia em Ang...</td>\n",
       "      <td>True</td>\n",
       "      <td>26000.0</td>\n",
       "    </tr>\n",
       "    <tr>\n",
       "      <th>1</th>\n",
       "      <td>2318026655065776</td>\n",
       "      <td>2023-04-24 12:07:02+00</td>\n",
       "      <td>100068846905135</td>\n",
       "      <td># Sfântul în Arsenie Boca # Nu ignora puneţi o...</td>\n",
       "      <td>22</td>\n",
       "      <td>russembangola</td>\n",
       "      <td>Embaixada da Federação da Rússia na República ...</td>\n",
       "      <td>A página oficial da Embaixada da Rússia em Ang...</td>\n",
       "      <td>True</td>\n",
       "      <td>26000.0</td>\n",
       "    </tr>\n",
       "    <tr>\n",
       "      <th>2</th>\n",
       "      <td>2318008095067632</td>\n",
       "      <td>2023-04-24 11:35:01+00</td>\n",
       "      <td>100068846905135</td>\n",
       "      <td>🙏❤️Hristos a purtat crucea ca orice suflet car...</td>\n",
       "      <td>7</td>\n",
       "      <td>russembangola</td>\n",
       "      <td>Embaixada da Federação da Rússia na República ...</td>\n",
       "      <td>A página oficial da Embaixada da Rússia em Ang...</td>\n",
       "      <td>True</td>\n",
       "      <td>26000.0</td>\n",
       "    </tr>\n",
       "  </tbody>\n",
       "</table>\n",
       "</div>"
      ],
      "text/plain": [
       "            post_id            created_time       profile_id  \\\n",
       "0  2318039031731205  2023-04-24 12:29:35+00  100068846905135   \n",
       "1  2318026655065776  2023-04-24 12:07:02+00  100068846905135   \n",
       "2  2318008095067632  2023-04-24 11:35:01+00  100068846905135   \n",
       "\n",
       "                                       text_original  comments_count  \\\n",
       "0                       Smerenia pleacă din inima ta               0   \n",
       "1  # Sfântul în Arsenie Boca # Nu ignora puneţi o...              22   \n",
       "2  🙏❤️Hristos a purtat crucea ca orice suflet car...               7   \n",
       "\n",
       "        username                                          full_name  \\\n",
       "0  russembangola  Embaixada da Federação da Rússia na República ...   \n",
       "1  russembangola  Embaixada da Federação da Rússia na República ...   \n",
       "2  russembangola  Embaixada da Federação da Rússia na República ...   \n",
       "\n",
       "                                         description is_verified  \\\n",
       "0  A página oficial da Embaixada da Rússia em Ang...        True   \n",
       "1  A página oficial da Embaixada da Rússia em Ang...        True   \n",
       "2  A página oficial da Embaixada da Rússia em Ang...        True   \n",
       "\n",
       "   followers_count  \n",
       "0          26000.0  \n",
       "1          26000.0  \n",
       "2          26000.0  "
      ]
     },
     "execution_count": 19,
     "metadata": {},
     "output_type": "execute_result"
    }
   ],
   "source": [
    "data.head(3)"
   ]
  },
  {
   "cell_type": "markdown",
   "id": "97d5bcb5-5367-4282-a7e0-d7bb8c1119cd",
   "metadata": {},
   "source": [
    "Let's convert `created_time` to `datetime` so it is easier to work with time"
   ]
  },
  {
   "cell_type": "code",
   "execution_count": 20,
   "id": "06258292-2c2b-47ab-91e5-cb6236dcac1a",
   "metadata": {},
   "outputs": [],
   "source": [
    "data.loc[:, 'created_time'] = pd.to_datetime(data['created_time'])"
   ]
  },
  {
   "cell_type": "markdown",
   "id": "50df79a0-2e64-46df-b5f5-6efec0a2f57a",
   "metadata": {},
   "source": [
    "Ok, now let's calculate the earliest and latest dates of post creation to understand time range"
   ]
  },
  {
   "cell_type": "code",
   "execution_count": 21,
   "id": "dd346fab-b988-4fa9-b079-837862d83a33",
   "metadata": {},
   "outputs": [
    {
     "name": "stdout",
     "output_type": "stream",
     "text": [
      "Earliest 'created_time': 2022-12-01 11:56:58+00:00\n",
      "Latest 'created_time': 2023-04-24 14:34:06+00:00\n"
     ]
    }
   ],
   "source": [
    "earliest_date = data['created_time'].min()\n",
    "latest_date = data['created_time'].max()\n",
    "\n",
    "print(f\"Earliest 'created_time': {earliest_date}\")\n",
    "print(f\"Latest 'created_time': {latest_date}\")"
   ]
  },
  {
   "cell_type": "markdown",
   "id": "7f236f50-5965-4982-b1f3-1aa3cae22f09",
   "metadata": {},
   "source": [
    "Let's create a histogram of `created_time` to see distribution of post creaation over time"
   ]
  },
  {
   "cell_type": "code",
   "execution_count": 22,
   "id": "7b9dfe6b-e9a3-4765-acda-63bf43c9d8c4",
   "metadata": {},
   "outputs": [
    {
     "data": {
      "image/png": "[encoded data removed]",
      "text/plain": [
       "<Figure size 640x480 with 1 Axes>"
      ]
     },
     "metadata": {},
     "output_type": "display_data"
    }
   ],
   "source": [
    "plt.hist(data['created_time'], bins=50, edgecolor='black')\n",
    "plt.xlabel('Created Time')\n",
    "plt.ylabel('Amout of Posts')\n",
    "plt.title('Distribution of Posts Over Time')\n",
    "plt.xticks(rotation=45)\n",
    "plt.show()"
   ]
  },
  {
   "cell_type": "markdown",
   "id": "bec086f8-f606-42db-858a-b8fd04a4b518",
   "metadata": {},
   "source": [
    "On the histogram above we can see a big spike in created posts at the end of April, 2023.\n",
    "\n",
    "Let's have a closer look at the \"spike time\" on a separate histogram"
   ]
  },
  {
   "cell_type": "code",
   "execution_count": 23,
   "id": "9b884699-6ec4-4a90-abc5-782f9572bdf8",
   "metadata": {},
   "outputs": [
    {
     "data": {
      "text/plain": [
       "(624, 10)"
      ]
     },
     "execution_count": 23,
     "metadata": {},
     "output_type": "execute_result"
    }
   ],
   "source": [
    "start_date = pd.Timestamp('2023-04-17', tz=\"UTC\")\n",
    "data_most_posts = data.loc[(data['created_time'] >= start_date) & (data['created_time'] <= latest_date)]\n",
    "data_most_posts.shape"
   ]
  },
  {
   "cell_type": "code",
   "execution_count": 24,
   "id": "abcc1d31-ef3e-4f8c-ae5d-87ea71579a34",
   "metadata": {},
   "outputs": [
    {
     "data": {
      "image/png": "[encoded data removed]",
      "text/plain": [
       "<Figure size 640x480 with 1 Axes>"
      ]
     },
     "metadata": {},
     "output_type": "display_data"
    }
   ],
   "source": [
    "plt.hist(data_most_posts['created_time'], bins=50, edgecolor='black')\n",
    "plt.xlabel('Created Time')\n",
    "plt.ylabel('Amout of Posts')\n",
    "plt.title('Distribution of Posts')\n",
    "plt.xticks(rotation=45)\n",
    "plt.show()"
   ]
  },
  {
   "cell_type": "markdown",
   "id": "cbfb908a-66d1-4ae2-a417-a8fb224dbd55",
   "metadata": {},
   "source": [
    "On the histogram above we can see that bigger chunk of the posts in our dataset were created around 20-24 of April, 2023"
   ]
  },
  {
   "cell_type": "markdown",
   "id": "1609b090-44ae-47c2-9981-872cbcb567e1",
   "metadata": {},
   "source": [
    "Let's have a look at which profiles created more posts during 'spike' period as well as for the whole time"
   ]
  },
  {
   "cell_type": "code",
   "execution_count": 25,
   "id": "05f20e08-746d-476b-a687-06608ac01fe4",
   "metadata": {},
   "outputs": [
    {
     "data": {
      "image/png": "[encoded data removed]",
      "text/plain": [
       "<Figure size 1200x400 with 1 Axes>"
      ]
     },
     "metadata": {},
     "output_type": "display_data"
    },
    {
     "data": {
      "image/png": "[encoded data removed]",
      "text/plain": [
       "<Figure size 1200x400 with 1 Axes>"
      ]
     },
     "metadata": {},
     "output_type": "display_data"
    }
   ],
   "source": [
    "# During the whole time \n",
    "posts_to_profile_counts_all = data['username'].value_counts()\n",
    "\n",
    "posts_to_profile_counts_all.plot(kind='bar', figsize=(12, 4), edgecolor='black')\n",
    "plt.xlabel('Username')\n",
    "plt.ylabel('Posts count')\n",
    "plt.title('Amount of Posts per User for the whole time')\n",
    "plt.show()\n",
    "\n",
    "# During the end of April (spike time) \n",
    "posts_to_profile_counts_april = data_most_posts['username'].value_counts()\n",
    "\n",
    "posts_to_profile_counts_april.plot(kind='bar', figsize=(12, 4), edgecolor='black')\n",
    "plt.xlabel('Username')\n",
    "plt.ylabel('Posts count')\n",
    "plt.title('Amount of Posts per User at the end of April')\n",
    "plt.show()"
   ]
  },
  {
   "cell_type": "markdown",
   "id": "f4cd4557-75fe-41c6-8091-badf8e0ee153",
   "metadata": {},
   "source": [
    "Interestingly, the distribution of posts created by users is pretty even in both cases, with no profiles being considerably more active than others."
   ]
  },
  {
   "cell_type": "markdown",
   "id": "25328ef3-1eb0-427c-9055-899fba9b6113",
   "metadata": {},
   "source": [
    "Ok, let's now find out profiles with the most followers"
   ]
  },
  {
   "cell_type": "code",
   "execution_count": 26,
   "id": "131cdae3-c6df-4122-8aec-c89fa801c27b",
   "metadata": {},
   "outputs": [],
   "source": [
    "profile_most_followers = data.drop_duplicates(subset=['username'])\n",
    "profile_most_followers = profile_most_followers.sort_values(by='followers_count', ascending=False).head(10)"
   ]
  },
  {
   "cell_type": "code",
   "execution_count": 27,
   "id": "736900e4-b8d6-44e5-b3e8-d58aafdc8031",
   "metadata": {},
   "outputs": [
    {
     "data": {
      "image/png": "[encoded data removed]",
      "text/plain": [
       "<Figure size 1200x600 with 1 Axes>"
      ]
     },
     "metadata": {},
     "output_type": "display_data"
    }
   ],
   "source": [
    "username = profile_most_followers['username']\n",
    "followers_count = profile_most_followers['followers_count']\n",
    "\n",
    "plt.figure(figsize=(12, 6))\n",
    "plt.bar(username, followers_count, edgecolor='black')\n",
    "plt.xlabel('Username')\n",
    "plt.ylabel('Followers Count')\n",
    "plt.title('Followers Count for Each Profile')\n",
    "plt.xticks(rotation=45)\n",
    "plt.tight_layout()\n",
    "plt.show()"
   ]
  },
  {
   "cell_type": "markdown",
   "id": "9eaf0903-7a09-4221-a9d2-47f8766b9813",
   "metadata": {},
   "source": [
    "We can see that there's clearly 3 profiles with the biggest audience, those are: \n",
    "\n",
    "1. lentaru \n",
    "2. sputnik.france\n",
    "3. tassagency\n",
    "\n",
    "Let's find out if those are `verified`/official accounts."
   ]
  },
  {
   "cell_type": "code",
   "execution_count": 28,
   "id": "d05cbfee-6c42-4a5c-9b38-996b42a32b4b",
   "metadata": {},
   "outputs": [
    {
     "name": "stdout",
     "output_type": "stream",
     "text": [
      "858    True\n",
      "Name: is_verified, dtype: object\n",
      "351    True\n",
      "Name: is_verified, dtype: object\n",
      "780    True\n",
      "Name: is_verified, dtype: object\n"
     ]
    }
   ],
   "source": [
    "three_most_followed_profiles = ['lentaru', 'sputnik.france', 'tassagency']\n",
    "\n",
    "for profile in three_most_followed_profiles:\n",
    "    print(profile_most_followers[profile_most_followers['username'] == profile]['is_verified'])"
   ]
  },
  {
   "cell_type": "markdown",
   "id": "a24a790d-305e-42cd-8952-62a318f0a338",
   "metadata": {},
   "source": [
    "Yes, they are verified. "
   ]
  },
  {
   "cell_type": "markdown",
   "id": "08e0bad1-e860-43c9-8fa7-e9dd8c1da834",
   "metadata": {},
   "source": [
    "Now, let's see how many comments do posts from 3 most followed and verified profiles get"
   ]
  },
  {
   "cell_type": "code",
   "execution_count": 29,
   "id": "b3012fde-91eb-4f9b-bcf2-a3d329b93e98",
   "metadata": {},
   "outputs": [
    {
     "data": {
      "text/html": [
       "<div>\n",
       "<style scoped>\n",
       "    .dataframe tbody tr th:only-of-type {\n",
       "        vertical-align: middle;\n",
       "    }\n",
       "\n",
       "    .dataframe tbody tr th {\n",
       "        vertical-align: top;\n",
       "    }\n",
       "\n",
       "    .dataframe thead th {\n",
       "        text-align: right;\n",
       "    }\n",
       "</style>\n",
       "<table border=\"1\" class=\"dataframe\">\n",
       "  <thead>\n",
       "    <tr style=\"text-align: right;\">\n",
       "      <th></th>\n",
       "      <th>post_id</th>\n",
       "      <th>created_time</th>\n",
       "      <th>profile_id</th>\n",
       "      <th>text_original</th>\n",
       "      <th>comments_count</th>\n",
       "      <th>username</th>\n",
       "      <th>full_name</th>\n",
       "      <th>description</th>\n",
       "      <th>is_verified</th>\n",
       "      <th>followers_count</th>\n",
       "    </tr>\n",
       "  </thead>\n",
       "  <tbody>\n",
       "    <tr>\n",
       "      <th>352</th>\n",
       "      <td>735241114614071</td>\n",
       "      <td>2023-01-26 06:11:34+00:00</td>\n",
       "      <td>138513176208770</td>\n",
       "      <td>India celebrates Republic Day with a military ...</td>\n",
       "      <td>7</td>\n",
       "      <td>sputnik.france</td>\n",
       "      <td>Sputnik France</td>\n",
       "      <td>Sputnik France est un média d'information alte...</td>\n",
       "      <td>True</td>\n",
       "      <td>786228.0</td>\n",
       "    </tr>\n",
       "    <tr>\n",
       "      <th>351</th>\n",
       "      <td>892544881941785</td>\n",
       "      <td>2023-02-02 14:07:51+00:00</td>\n",
       "      <td>138513176208770</td>\n",
       "      <td>US astronauts conduct spacewalk at ISS</td>\n",
       "      <td>4</td>\n",
       "      <td>sputnik.france</td>\n",
       "      <td>Sputnik France</td>\n",
       "      <td>Sputnik France est un média d'information alte...</td>\n",
       "      <td>True</td>\n",
       "      <td>786228.0</td>\n",
       "    </tr>\n",
       "    <tr>\n",
       "      <th>367</th>\n",
       "      <td>6482140645129467</td>\n",
       "      <td>2023-03-25 05:01:12+00:00</td>\n",
       "      <td>138513176208770</td>\n",
       "      <td>Russia launched a military satellite into orbi...</td>\n",
       "      <td>4</td>\n",
       "      <td>sputnik.france</td>\n",
       "      <td>Sputnik France</td>\n",
       "      <td>Sputnik France est un média d'information alte...</td>\n",
       "      <td>True</td>\n",
       "      <td>786228.0</td>\n",
       "    </tr>\n",
       "    <tr>\n",
       "      <th>354</th>\n",
       "      <td>6514664241877107</td>\n",
       "      <td>2023-04-05 08:01:13+00:00</td>\n",
       "      <td>138513176208770</td>\n",
       "      <td>Philippines' Kalibo Ostrich Farm offers a uniq...</td>\n",
       "      <td>3</td>\n",
       "      <td>sputnik.france</td>\n",
       "      <td>Sputnik France</td>\n",
       "      <td>Sputnik France est un média d'information alte...</td>\n",
       "      <td>True</td>\n",
       "      <td>786228.0</td>\n",
       "    </tr>\n",
       "    <tr>\n",
       "      <th>357</th>\n",
       "      <td>6512948488715349</td>\n",
       "      <td>2023-04-04 17:00:39+00:00</td>\n",
       "      <td>138513176208770</td>\n",
       "      <td>A rare snow leopard sharpens her claws and bas...</td>\n",
       "      <td>3</td>\n",
       "      <td>sputnik.france</td>\n",
       "      <td>Sputnik France</td>\n",
       "      <td>Sputnik France est un média d'information alte...</td>\n",
       "      <td>True</td>\n",
       "      <td>786228.0</td>\n",
       "    </tr>\n",
       "  </tbody>\n",
       "</table>\n",
       "</div>"
      ],
      "text/plain": [
       "              post_id               created_time       profile_id  \\\n",
       "352   735241114614071  2023-01-26 06:11:34+00:00  138513176208770   \n",
       "351   892544881941785  2023-02-02 14:07:51+00:00  138513176208770   \n",
       "367  6482140645129467  2023-03-25 05:01:12+00:00  138513176208770   \n",
       "354  6514664241877107  2023-04-05 08:01:13+00:00  138513176208770   \n",
       "357  6512948488715349  2023-04-04 17:00:39+00:00  138513176208770   \n",
       "\n",
       "                                         text_original  comments_count  \\\n",
       "352  India celebrates Republic Day with a military ...               7   \n",
       "351             US astronauts conduct spacewalk at ISS               4   \n",
       "367  Russia launched a military satellite into orbi...               4   \n",
       "354  Philippines' Kalibo Ostrich Farm offers a uniq...               3   \n",
       "357  A rare snow leopard sharpens her claws and bas...               3   \n",
       "\n",
       "           username       full_name  \\\n",
       "352  sputnik.france  Sputnik France   \n",
       "351  sputnik.france  Sputnik France   \n",
       "367  sputnik.france  Sputnik France   \n",
       "354  sputnik.france  Sputnik France   \n",
       "357  sputnik.france  Sputnik France   \n",
       "\n",
       "                                           description is_verified  \\\n",
       "352  Sputnik France est un média d'information alte...        True   \n",
       "351  Sputnik France est un média d'information alte...        True   \n",
       "367  Sputnik France est un média d'information alte...        True   \n",
       "354  Sputnik France est un média d'information alte...        True   \n",
       "357  Sputnik France est un média d'information alte...        True   \n",
       "\n",
       "     followers_count  \n",
       "352         786228.0  \n",
       "351         786228.0  \n",
       "367         786228.0  \n",
       "354         786228.0  \n",
       "357         786228.0  "
      ]
     },
     "execution_count": 29,
     "metadata": {},
     "output_type": "execute_result"
    }
   ],
   "source": [
    "posts_to_comments_verified = data[data['username'].isin(three_most_followed_profiles)].sort_values(by='comments_count', ascending=False)\n",
    "posts_to_comments_verified.head(5)"
   ]
  },
  {
   "cell_type": "markdown",
   "id": "d2890243-03c6-4ae3-ba0b-0996258eee7b",
   "metadata": {},
   "source": [
    "Surprisingly they clearly get very few comments compare to the amonut of followers they have"
   ]
  },
  {
   "cell_type": "markdown",
   "id": "60204079-d90d-46c0-b01d-dc3eeda5761b",
   "metadata": {},
   "source": [
    "Now, let's find the overall comment count for for posts."
   ]
  },
  {
   "cell_type": "code",
   "execution_count": 30,
   "id": "b330fb64-f4e5-490a-ba7b-77ab2dc1091b",
   "metadata": {},
   "outputs": [
    {
     "data": {
      "text/html": [
       "<div>\n",
       "<style scoped>\n",
       "    .dataframe tbody tr th:only-of-type {\n",
       "        vertical-align: middle;\n",
       "    }\n",
       "\n",
       "    .dataframe tbody tr th {\n",
       "        vertical-align: top;\n",
       "    }\n",
       "\n",
       "    .dataframe thead th {\n",
       "        text-align: right;\n",
       "    }\n",
       "</style>\n",
       "<table border=\"1\" class=\"dataframe\">\n",
       "  <thead>\n",
       "    <tr style=\"text-align: right;\">\n",
       "      <th></th>\n",
       "      <th>post_id</th>\n",
       "      <th>profile_id</th>\n",
       "      <th>username</th>\n",
       "      <th>is_verified</th>\n",
       "      <th>followers_count</th>\n",
       "      <th>comments_count</th>\n",
       "      <th>created_time</th>\n",
       "    </tr>\n",
       "  </thead>\n",
       "  <tbody>\n",
       "    <tr>\n",
       "      <th>56</th>\n",
       "      <td>734562668126038</td>\n",
       "      <td>100049129852371</td>\n",
       "      <td>Prüfe-alles-glaube-wenig-denke-selbst</td>\n",
       "      <td>False</td>\n",
       "      <td>74000.0</td>\n",
       "      <td>447</td>\n",
       "      <td>2023-02-21 09:01:54+00:00</td>\n",
       "    </tr>\n",
       "    <tr>\n",
       "      <th>59</th>\n",
       "      <td>724211798875802</td>\n",
       "      <td>100049129852371</td>\n",
       "      <td>Prüfe-alles-glaube-wenig-denke-selbst</td>\n",
       "      <td>False</td>\n",
       "      <td>74000.0</td>\n",
       "      <td>405</td>\n",
       "      <td>2022-12-31 20:50:40+00:00</td>\n",
       "    </tr>\n",
       "    <tr>\n",
       "      <th>631</th>\n",
       "      <td>823098289181058</td>\n",
       "      <td>100063622184348</td>\n",
       "      <td>Sergiu.Mihalcea.PaginaOficiala</td>\n",
       "      <td>False</td>\n",
       "      <td>126000.0</td>\n",
       "      <td>341</td>\n",
       "      <td>2023-04-24 10:33:43+00:00</td>\n",
       "    </tr>\n",
       "    <tr>\n",
       "      <th>121</th>\n",
       "      <td>971856574169866</td>\n",
       "      <td>100069390481601</td>\n",
       "      <td>unzensuriert</td>\n",
       "      <td>False</td>\n",
       "      <td>58000.0</td>\n",
       "      <td>291</td>\n",
       "      <td>2022-12-27 17:00:10+00:00</td>\n",
       "    </tr>\n",
       "    <tr>\n",
       "      <th>155</th>\n",
       "      <td>921428155659740</td>\n",
       "      <td>100069390481601</td>\n",
       "      <td>unzensuriert</td>\n",
       "      <td>False</td>\n",
       "      <td>58000.0</td>\n",
       "      <td>190</td>\n",
       "      <td>2023-03-18 23:08:15+00:00</td>\n",
       "    </tr>\n",
       "    <tr>\n",
       "      <th>153</th>\n",
       "      <td>922367548972273</td>\n",
       "      <td>100069390481601</td>\n",
       "      <td>unzensuriert</td>\n",
       "      <td>False</td>\n",
       "      <td>58000.0</td>\n",
       "      <td>188</td>\n",
       "      <td>2023-04-15 20:34:29+00:00</td>\n",
       "    </tr>\n",
       "    <tr>\n",
       "      <th>133</th>\n",
       "      <td>945982783055944</td>\n",
       "      <td>100069390481601</td>\n",
       "      <td>unzensuriert</td>\n",
       "      <td>False</td>\n",
       "      <td>58000.0</td>\n",
       "      <td>186</td>\n",
       "      <td>2022-12-31 22:01:06+00:00</td>\n",
       "    </tr>\n",
       "    <tr>\n",
       "      <th>70</th>\n",
       "      <td>691777352335383</td>\n",
       "      <td>100049129852371</td>\n",
       "      <td>Prüfe-alles-glaube-wenig-denke-selbst</td>\n",
       "      <td>False</td>\n",
       "      <td>74000.0</td>\n",
       "      <td>173</td>\n",
       "      <td>2022-12-22 15:48:57+00:00</td>\n",
       "    </tr>\n",
       "    <tr>\n",
       "      <th>134</th>\n",
       "      <td>944930216486910</td>\n",
       "      <td>100069390481601</td>\n",
       "      <td>unzensuriert</td>\n",
       "      <td>False</td>\n",
       "      <td>58000.0</td>\n",
       "      <td>156</td>\n",
       "      <td>2022-12-22 14:02:06+00:00</td>\n",
       "    </tr>\n",
       "    <tr>\n",
       "      <th>126</th>\n",
       "      <td>961819484981102</td>\n",
       "      <td>100069390481601</td>\n",
       "      <td>unzensuriert</td>\n",
       "      <td>False</td>\n",
       "      <td>58000.0</td>\n",
       "      <td>148</td>\n",
       "      <td>2023-02-18 22:01:22+00:00</td>\n",
       "    </tr>\n",
       "    <tr>\n",
       "      <th>469</th>\n",
       "      <td>887980615875297</td>\n",
       "      <td>233946916972658</td>\n",
       "      <td>friedentotal</td>\n",
       "      <td>False</td>\n",
       "      <td>62416.0</td>\n",
       "      <td>139</td>\n",
       "      <td>2023-02-18 14:04:45+00:00</td>\n",
       "    </tr>\n",
       "    <tr>\n",
       "      <th>144</th>\n",
       "      <td>931261798293303</td>\n",
       "      <td>100069390481601</td>\n",
       "      <td>unzensuriert</td>\n",
       "      <td>False</td>\n",
       "      <td>58000.0</td>\n",
       "      <td>135</td>\n",
       "      <td>2023-04-04 17:59:58+00:00</td>\n",
       "    </tr>\n",
       "    <tr>\n",
       "      <th>630</th>\n",
       "      <td>823104139180473</td>\n",
       "      <td>100063622184348</td>\n",
       "      <td>Sergiu.Mihalcea.PaginaOficiala</td>\n",
       "      <td>False</td>\n",
       "      <td>126000.0</td>\n",
       "      <td>134</td>\n",
       "      <td>2023-04-24 10:48:46+00:00</td>\n",
       "    </tr>\n",
       "    <tr>\n",
       "      <th>152</th>\n",
       "      <td>923255332000627</td>\n",
       "      <td>100069390481601</td>\n",
       "      <td>unzensuriert</td>\n",
       "      <td>False</td>\n",
       "      <td>58000.0</td>\n",
       "      <td>133</td>\n",
       "      <td>2023-02-05 17:59:34+00:00</td>\n",
       "    </tr>\n",
       "    <tr>\n",
       "      <th>131</th>\n",
       "      <td>947783059965294</td>\n",
       "      <td>100069390481601</td>\n",
       "      <td>unzensuriert</td>\n",
       "      <td>False</td>\n",
       "      <td>58000.0</td>\n",
       "      <td>132</td>\n",
       "      <td>2023-01-05 13:59:34+00:00</td>\n",
       "    </tr>\n",
       "    <tr>\n",
       "      <th>140</th>\n",
       "      <td>936313940864005</td>\n",
       "      <td>100069390481601</td>\n",
       "      <td>unzensuriert</td>\n",
       "      <td>False</td>\n",
       "      <td>58000.0</td>\n",
       "      <td>129</td>\n",
       "      <td>2023-01-12 18:00:08+00:00</td>\n",
       "    </tr>\n",
       "    <tr>\n",
       "      <th>65</th>\n",
       "      <td>715710090093173</td>\n",
       "      <td>100049129852371</td>\n",
       "      <td>Prüfe-alles-glaube-wenig-denke-selbst</td>\n",
       "      <td>False</td>\n",
       "      <td>74000.0</td>\n",
       "      <td>118</td>\n",
       "      <td>2023-03-01 17:01:06+00:00</td>\n",
       "    </tr>\n",
       "    <tr>\n",
       "      <th>649</th>\n",
       "      <td>822774685880085</td>\n",
       "      <td>100063622184348</td>\n",
       "      <td>Sergiu.Mihalcea.PaginaOficiala</td>\n",
       "      <td>False</td>\n",
       "      <td>126000.0</td>\n",
       "      <td>117</td>\n",
       "      <td>2023-04-23 20:50:45+00:00</td>\n",
       "    </tr>\n",
       "    <tr>\n",
       "      <th>60</th>\n",
       "      <td>724176112447913</td>\n",
       "      <td>100049129852371</td>\n",
       "      <td>Prüfe-alles-glaube-wenig-denke-selbst</td>\n",
       "      <td>False</td>\n",
       "      <td>74000.0</td>\n",
       "      <td>115</td>\n",
       "      <td>2023-02-06 08:41:17+00:00</td>\n",
       "    </tr>\n",
       "    <tr>\n",
       "      <th>154</th>\n",
       "      <td>921670108855463</td>\n",
       "      <td>100069390481601</td>\n",
       "      <td>unzensuriert</td>\n",
       "      <td>False</td>\n",
       "      <td>58000.0</td>\n",
       "      <td>111</td>\n",
       "      <td>2023-01-31 22:00:06+00:00</td>\n",
       "    </tr>\n",
       "  </tbody>\n",
       "</table>\n",
       "</div>"
      ],
      "text/plain": [
       "             post_id       profile_id                               username  \\\n",
       "56   734562668126038  100049129852371  Prüfe-alles-glaube-wenig-denke-selbst   \n",
       "59   724211798875802  100049129852371  Prüfe-alles-glaube-wenig-denke-selbst   \n",
       "631  823098289181058  100063622184348         Sergiu.Mihalcea.PaginaOficiala   \n",
       "121  971856574169866  100069390481601                           unzensuriert   \n",
       "155  921428155659740  100069390481601                           unzensuriert   \n",
       "153  922367548972273  100069390481601                           unzensuriert   \n",
       "133  945982783055944  100069390481601                           unzensuriert   \n",
       "70   691777352335383  100049129852371  Prüfe-alles-glaube-wenig-denke-selbst   \n",
       "134  944930216486910  100069390481601                           unzensuriert   \n",
       "126  961819484981102  100069390481601                           unzensuriert   \n",
       "469  887980615875297  233946916972658                           friedentotal   \n",
       "144  931261798293303  100069390481601                           unzensuriert   \n",
       "630  823104139180473  100063622184348         Sergiu.Mihalcea.PaginaOficiala   \n",
       "152  923255332000627  100069390481601                           unzensuriert   \n",
       "131  947783059965294  100069390481601                           unzensuriert   \n",
       "140  936313940864005  100069390481601                           unzensuriert   \n",
       "65   715710090093173  100049129852371  Prüfe-alles-glaube-wenig-denke-selbst   \n",
       "649  822774685880085  100063622184348         Sergiu.Mihalcea.PaginaOficiala   \n",
       "60   724176112447913  100049129852371  Prüfe-alles-glaube-wenig-denke-selbst   \n",
       "154  921670108855463  100069390481601                           unzensuriert   \n",
       "\n",
       "    is_verified  followers_count  comments_count               created_time  \n",
       "56        False          74000.0             447  2023-02-21 09:01:54+00:00  \n",
       "59        False          74000.0             405  2022-12-31 20:50:40+00:00  \n",
       "631       False         126000.0             341  2023-04-24 10:33:43+00:00  \n",
       "121       False          58000.0             291  2022-12-27 17:00:10+00:00  \n",
       "155       False          58000.0             190  2023-03-18 23:08:15+00:00  \n",
       "153       False          58000.0             188  2023-04-15 20:34:29+00:00  \n",
       "133       False          58000.0             186  2022-12-31 22:01:06+00:00  \n",
       "70        False          74000.0             173  2022-12-22 15:48:57+00:00  \n",
       "134       False          58000.0             156  2022-12-22 14:02:06+00:00  \n",
       "126       False          58000.0             148  2023-02-18 22:01:22+00:00  \n",
       "469       False          62416.0             139  2023-02-18 14:04:45+00:00  \n",
       "144       False          58000.0             135  2023-04-04 17:59:58+00:00  \n",
       "630       False         126000.0             134  2023-04-24 10:48:46+00:00  \n",
       "152       False          58000.0             133  2023-02-05 17:59:34+00:00  \n",
       "131       False          58000.0             132  2023-01-05 13:59:34+00:00  \n",
       "140       False          58000.0             129  2023-01-12 18:00:08+00:00  \n",
       "65        False          74000.0             118  2023-03-01 17:01:06+00:00  \n",
       "649       False         126000.0             117  2023-04-23 20:50:45+00:00  \n",
       "60        False          74000.0             115  2023-02-06 08:41:17+00:00  \n",
       "154       False          58000.0             111  2023-01-31 22:00:06+00:00  "
      ]
     },
     "execution_count": 30,
     "metadata": {},
     "output_type": "execute_result"
    }
   ],
   "source": [
    "posts_most_comments = data.sort_values(by='comments_count', ascending=False).head(20)\n",
    "posts_most_comments = posts_most_comments[['post_id', 'profile_id', 'username', 'is_verified', \n",
    "                                           'followers_count', 'comments_count', 'created_time']]\n",
    "posts_most_comments"
   ]
  },
  {
   "cell_type": "markdown",
   "id": "cd4cc7e4-12b7-4389-b2e5-113e63dd58ed",
   "metadata": {},
   "source": [
    "Looking at the table above (let's refer to it as Table 1), we can observe that the posts with the most comments originate from three profiles:\n",
    "\n",
    "1. Prüfe-alles-glaube-wenig-denke-selbst\n",
    "2. unzensuriert\n",
    "3. Sergiu.Mihalcea.PaginaOficiala\n",
    "\n",
    "These profiles have relatively low follower counts, ranging from 58,000 to 126,000, in contrast to the profiles in the table of most followed accounts with around 800,000 followers.\n",
    "\n",
    "Additionally, none of these accounts are verified, which raises questions about the authenticity of their posts. This lack of verification increases the likelihood of unreliable information or even disinformation in their content, leading to more controversy and comments.\n",
    "\n",
    "Interestingly, among the top 20 most commented posts, only three were posted during the end of April \"spike\" period."
   ]
  },
  {
   "cell_type": "markdown",
   "id": "db2320ab-cc87-4e8c-a891-6d09c6f04e88",
   "metadata": {},
   "source": [
    "Let's now scatter commments count to follower count to see distribution"
   ]
  },
  {
   "cell_type": "code",
   "execution_count": 31,
   "id": "3b3d3dc8-4771-44f9-b50f-19638c3be552",
   "metadata": {},
   "outputs": [
    {
     "data": {
      "text/plain": [
       "<Axes: title={'center': 'Distribution of comment to followers count'}, xlabel='comments_count', ylabel='followers_count'>"
      ]
     },
     "execution_count": 31,
     "metadata": {},
     "output_type": "execute_result"
    },
    {
     "data": {
      "image/png": "[encoded data removed]",
      "text/plain": [
       "<Figure size 640x480 with 1 Axes>"
      ]
     },
     "metadata": {},
     "output_type": "display_data"
    }
   ],
   "source": [
    "data.plot.scatter('comments_count', 'followers_count', title='Distribution of comment to followers count')"
   ]
  },
  {
   "cell_type": "markdown",
   "id": "924d8c6a-9f33-45d8-a10d-4a63a45594e2",
   "metadata": {},
   "source": [
    "We can see that there are a couple of clear outliers, let's cut them off"
   ]
  },
  {
   "cell_type": "code",
   "execution_count": 32,
   "id": "ea1cc9c4-75a5-4c96-b843-b3e52cc0e2aa",
   "metadata": {},
   "outputs": [
    {
     "data": {
      "text/plain": [
       "<Axes: title={'center': 'Distribution of comment to followers count'}, xlabel='comments_count', ylabel='followers_count'>"
      ]
     },
     "execution_count": 32,
     "metadata": {},
     "output_type": "execute_result"
    },
    {
     "data": {
      "image/png": "[encoded data removed]",
      "text/plain": [
       "<Figure size 640x480 with 1 Axes>"
      ]
     },
     "metadata": {},
     "output_type": "display_data"
    }
   ],
   "source": [
    "data_no_outliers = data[(data['comments_count'] < 200) & (data['followers_count'] < 200000)]\n",
    "data_no_outliers.plot.scatter('comments_count', 'followers_count', title='Distribution of comment to followers count')"
   ]
  },
  {
   "cell_type": "markdown",
   "id": "274d402d-68b9-44a2-8acd-1f7a003b5037",
   "metadata": {},
   "source": [
    "Now, let's find posts with the most comment count without the outliers and normalized by post age."
   ]
  },
  {
   "cell_type": "code",
   "execution_count": 33,
   "id": "972aab48-279b-4e47-9a88-f987a561cb76",
   "metadata": {},
   "outputs": [
    {
     "data": {
      "text/html": [
       "<div>\n",
       "<style scoped>\n",
       "    .dataframe tbody tr th:only-of-type {\n",
       "        vertical-align: middle;\n",
       "    }\n",
       "\n",
       "    .dataframe tbody tr th {\n",
       "        vertical-align: top;\n",
       "    }\n",
       "\n",
       "    .dataframe thead th {\n",
       "        text-align: right;\n",
       "    }\n",
       "</style>\n",
       "<table border=\"1\" class=\"dataframe\">\n",
       "  <thead>\n",
       "    <tr style=\"text-align: right;\">\n",
       "      <th></th>\n",
       "      <th>post_id</th>\n",
       "      <th>profile_id</th>\n",
       "      <th>username</th>\n",
       "      <th>is_verified</th>\n",
       "      <th>followers_count</th>\n",
       "      <th>comments_count</th>\n",
       "      <th>created_time</th>\n",
       "      <th>comment_count_by_post_lifespan</th>\n",
       "    </tr>\n",
       "  </thead>\n",
       "  <tbody>\n",
       "    <tr>\n",
       "      <th>134</th>\n",
       "      <td>944930216486910</td>\n",
       "      <td>100069390481601</td>\n",
       "      <td>unzensuriert</td>\n",
       "      <td>False</td>\n",
       "      <td>58000.0</td>\n",
       "      <td>156</td>\n",
       "      <td>2022-12-22 14:02:06+00:00</td>\n",
       "      <td>0.081250</td>\n",
       "    </tr>\n",
       "    <tr>\n",
       "      <th>469</th>\n",
       "      <td>887980615875297</td>\n",
       "      <td>233946916972658</td>\n",
       "      <td>friedentotal</td>\n",
       "      <td>False</td>\n",
       "      <td>62416.0</td>\n",
       "      <td>139</td>\n",
       "      <td>2023-02-18 14:04:45+00:00</td>\n",
       "      <td>0.078932</td>\n",
       "    </tr>\n",
       "    <tr>\n",
       "      <th>1130</th>\n",
       "      <td>201665605988640</td>\n",
       "      <td>100064898132087</td>\n",
       "      <td>ambrusitalia</td>\n",
       "      <td>True</td>\n",
       "      <td>38000.0</td>\n",
       "      <td>23</td>\n",
       "      <td>2023-04-22 14:29:09+00:00</td>\n",
       "      <td>0.077441</td>\n",
       "    </tr>\n",
       "    <tr>\n",
       "      <th>131</th>\n",
       "      <td>947783059965294</td>\n",
       "      <td>100069390481601</td>\n",
       "      <td>unzensuriert</td>\n",
       "      <td>False</td>\n",
       "      <td>58000.0</td>\n",
       "      <td>132</td>\n",
       "      <td>2023-01-05 13:59:34+00:00</td>\n",
       "      <td>0.063707</td>\n",
       "    </tr>\n",
       "    <tr>\n",
       "      <th>143</th>\n",
       "      <td>933161911005038</td>\n",
       "      <td>100069390481601</td>\n",
       "      <td>unzensuriert</td>\n",
       "      <td>False</td>\n",
       "      <td>58000.0</td>\n",
       "      <td>106</td>\n",
       "      <td>2022-12-29 13:59:30+00:00</td>\n",
       "      <td>0.051060</td>\n",
       "    </tr>\n",
       "    <tr>\n",
       "      <th>123</th>\n",
       "      <td>968582547471333</td>\n",
       "      <td>100069390481601</td>\n",
       "      <td>unzensuriert</td>\n",
       "      <td>False</td>\n",
       "      <td>58000.0</td>\n",
       "      <td>96</td>\n",
       "      <td>2023-03-21 14:00:10+00:00</td>\n",
       "      <td>0.047151</td>\n",
       "    </tr>\n",
       "    <tr>\n",
       "      <th>149</th>\n",
       "      <td>927028425122400</td>\n",
       "      <td>100069390481601</td>\n",
       "      <td>unzensuriert</td>\n",
       "      <td>False</td>\n",
       "      <td>58000.0</td>\n",
       "      <td>89</td>\n",
       "      <td>2023-01-23 14:00:40+00:00</td>\n",
       "      <td>0.044367</td>\n",
       "    </tr>\n",
       "    <tr>\n",
       "      <th>142</th>\n",
       "      <td>933615901125538</td>\n",
       "      <td>100069390481601</td>\n",
       "      <td>unzensuriert</td>\n",
       "      <td>False</td>\n",
       "      <td>58000.0</td>\n",
       "      <td>87</td>\n",
       "      <td>2023-02-27 13:57:40+00:00</td>\n",
       "      <td>0.039799</td>\n",
       "    </tr>\n",
       "    <tr>\n",
       "      <th>132</th>\n",
       "      <td>947207556635514</td>\n",
       "      <td>100069390481601</td>\n",
       "      <td>unzensuriert</td>\n",
       "      <td>False</td>\n",
       "      <td>58000.0</td>\n",
       "      <td>74</td>\n",
       "      <td>2023-04-20 14:00:04+00:00</td>\n",
       "      <td>0.036239</td>\n",
       "    </tr>\n",
       "    <tr>\n",
       "      <th>135</th>\n",
       "      <td>944879893351738</td>\n",
       "      <td>100069390481601</td>\n",
       "      <td>unzensuriert</td>\n",
       "      <td>False</td>\n",
       "      <td>58000.0</td>\n",
       "      <td>72</td>\n",
       "      <td>2023-03-01 13:59:11+00:00</td>\n",
       "      <td>0.034368</td>\n",
       "    </tr>\n",
       "    <tr>\n",
       "      <th>141</th>\n",
       "      <td>935126317906422</td>\n",
       "      <td>100069390481601</td>\n",
       "      <td>unzensuriert</td>\n",
       "      <td>False</td>\n",
       "      <td>58000.0</td>\n",
       "      <td>69</td>\n",
       "      <td>2023-04-10 14:00:06+00:00</td>\n",
       "      <td>0.033824</td>\n",
       "    </tr>\n",
       "    <tr>\n",
       "      <th>145</th>\n",
       "      <td>928519214818588</td>\n",
       "      <td>100069390481601</td>\n",
       "      <td>unzensuriert</td>\n",
       "      <td>False</td>\n",
       "      <td>58000.0</td>\n",
       "      <td>68</td>\n",
       "      <td>2023-02-07 13:59:06+00:00</td>\n",
       "      <td>0.032381</td>\n",
       "    </tr>\n",
       "    <tr>\n",
       "      <th>120</th>\n",
       "      <td>987486018917908</td>\n",
       "      <td>100069390481601</td>\n",
       "      <td>unzensuriert</td>\n",
       "      <td>False</td>\n",
       "      <td>58000.0</td>\n",
       "      <td>64</td>\n",
       "      <td>2023-04-19 13:59:18+00:00</td>\n",
       "      <td>0.030651</td>\n",
       "    </tr>\n",
       "    <tr>\n",
       "      <th>138</th>\n",
       "      <td>936580170658964</td>\n",
       "      <td>100069390481601</td>\n",
       "      <td>unzensuriert</td>\n",
       "      <td>False</td>\n",
       "      <td>58000.0</td>\n",
       "      <td>53</td>\n",
       "      <td>2022-12-25 13:59:50+00:00</td>\n",
       "      <td>0.025778</td>\n",
       "    </tr>\n",
       "    <tr>\n",
       "      <th>47</th>\n",
       "      <td>853622579046244</td>\n",
       "      <td>100049129852371</td>\n",
       "      <td>Prüfe-alles-glaube-wenig-denke-selbst</td>\n",
       "      <td>False</td>\n",
       "      <td>74000.0</td>\n",
       "      <td>96</td>\n",
       "      <td>2023-02-06 12:45:48+00:00</td>\n",
       "      <td>0.014774</td>\n",
       "    </tr>\n",
       "    <tr>\n",
       "      <th>55</th>\n",
       "      <td>734750687523538</td>\n",
       "      <td>100049129852371</td>\n",
       "      <td>Prüfe-alles-glaube-wenig-denke-selbst</td>\n",
       "      <td>False</td>\n",
       "      <td>74000.0</td>\n",
       "      <td>96</td>\n",
       "      <td>2022-12-15 12:33:12+00:00</td>\n",
       "      <td>0.013234</td>\n",
       "    </tr>\n",
       "    <tr>\n",
       "      <th>471</th>\n",
       "      <td>878521853444711</td>\n",
       "      <td>233946916972658</td>\n",
       "      <td>friedentotal</td>\n",
       "      <td>False</td>\n",
       "      <td>62416.0</td>\n",
       "      <td>109</td>\n",
       "      <td>2023-02-25 12:11:15+00:00</td>\n",
       "      <td>0.012717</td>\n",
       "    </tr>\n",
       "    <tr>\n",
       "      <th>67</th>\n",
       "      <td>705069754308885</td>\n",
       "      <td>100049129852371</td>\n",
       "      <td>Prüfe-alles-glaube-wenig-denke-selbst</td>\n",
       "      <td>False</td>\n",
       "      <td>74000.0</td>\n",
       "      <td>26</td>\n",
       "      <td>2022-12-18 13:59:45+00:00</td>\n",
       "      <td>0.012615</td>\n",
       "    </tr>\n",
       "    <tr>\n",
       "      <th>48</th>\n",
       "      <td>849007289536930</td>\n",
       "      <td>100049129852371</td>\n",
       "      <td>Prüfe-alles-glaube-wenig-denke-selbst</td>\n",
       "      <td>False</td>\n",
       "      <td>74000.0</td>\n",
       "      <td>57</td>\n",
       "      <td>2023-02-07 13:12:39+00:00</td>\n",
       "      <td>0.011664</td>\n",
       "    </tr>\n",
       "    <tr>\n",
       "      <th>39</th>\n",
       "      <td>958192885342822</td>\n",
       "      <td>100049129852371</td>\n",
       "      <td>Prüfe-alles-glaube-wenig-denke-selbst</td>\n",
       "      <td>False</td>\n",
       "      <td>74000.0</td>\n",
       "      <td>53</td>\n",
       "      <td>2023-03-06 13:15:32+00:00</td>\n",
       "      <td>0.011243</td>\n",
       "    </tr>\n",
       "  </tbody>\n",
       "</table>\n",
       "</div>"
      ],
      "text/plain": [
       "              post_id       profile_id                               username  \\\n",
       "134   944930216486910  100069390481601                           unzensuriert   \n",
       "469   887980615875297  233946916972658                           friedentotal   \n",
       "1130  201665605988640  100064898132087                           ambrusitalia   \n",
       "131   947783059965294  100069390481601                           unzensuriert   \n",
       "143   933161911005038  100069390481601                           unzensuriert   \n",
       "123   968582547471333  100069390481601                           unzensuriert   \n",
       "149   927028425122400  100069390481601                           unzensuriert   \n",
       "142   933615901125538  100069390481601                           unzensuriert   \n",
       "132   947207556635514  100069390481601                           unzensuriert   \n",
       "135   944879893351738  100069390481601                           unzensuriert   \n",
       "141   935126317906422  100069390481601                           unzensuriert   \n",
       "145   928519214818588  100069390481601                           unzensuriert   \n",
       "120   987486018917908  100069390481601                           unzensuriert   \n",
       "138   936580170658964  100069390481601                           unzensuriert   \n",
       "47    853622579046244  100049129852371  Prüfe-alles-glaube-wenig-denke-selbst   \n",
       "55    734750687523538  100049129852371  Prüfe-alles-glaube-wenig-denke-selbst   \n",
       "471   878521853444711  233946916972658                           friedentotal   \n",
       "67    705069754308885  100049129852371  Prüfe-alles-glaube-wenig-denke-selbst   \n",
       "48    849007289536930  100049129852371  Prüfe-alles-glaube-wenig-denke-selbst   \n",
       "39    958192885342822  100049129852371  Prüfe-alles-glaube-wenig-denke-selbst   \n",
       "\n",
       "     is_verified  followers_count  comments_count               created_time  \\\n",
       "134        False          58000.0             156  2022-12-22 14:02:06+00:00   \n",
       "469        False          62416.0             139  2023-02-18 14:04:45+00:00   \n",
       "1130        True          38000.0              23  2023-04-22 14:29:09+00:00   \n",
       "131        False          58000.0             132  2023-01-05 13:59:34+00:00   \n",
       "143        False          58000.0             106  2022-12-29 13:59:30+00:00   \n",
       "123        False          58000.0              96  2023-03-21 14:00:10+00:00   \n",
       "149        False          58000.0              89  2023-01-23 14:00:40+00:00   \n",
       "142        False          58000.0              87  2023-02-27 13:57:40+00:00   \n",
       "132        False          58000.0              74  2023-04-20 14:00:04+00:00   \n",
       "135        False          58000.0              72  2023-03-01 13:59:11+00:00   \n",
       "141        False          58000.0              69  2023-04-10 14:00:06+00:00   \n",
       "145        False          58000.0              68  2023-02-07 13:59:06+00:00   \n",
       "120        False          58000.0              64  2023-04-19 13:59:18+00:00   \n",
       "138        False          58000.0              53  2022-12-25 13:59:50+00:00   \n",
       "47         False          74000.0              96  2023-02-06 12:45:48+00:00   \n",
       "55         False          74000.0              96  2022-12-15 12:33:12+00:00   \n",
       "471        False          62416.0             109  2023-02-25 12:11:15+00:00   \n",
       "67         False          74000.0              26  2022-12-18 13:59:45+00:00   \n",
       "48         False          74000.0              57  2023-02-07 13:12:39+00:00   \n",
       "39         False          74000.0              53  2023-03-06 13:15:32+00:00   \n",
       "\n",
       "      comment_count_by_post_lifespan  \n",
       "134                         0.081250  \n",
       "469                         0.078932  \n",
       "1130                        0.077441  \n",
       "131                         0.063707  \n",
       "143                         0.051060  \n",
       "123                         0.047151  \n",
       "149                         0.044367  \n",
       "142                         0.039799  \n",
       "132                         0.036239  \n",
       "135                         0.034368  \n",
       "141                         0.033824  \n",
       "145                         0.032381  \n",
       "120                         0.030651  \n",
       "138                         0.025778  \n",
       "47                          0.014774  \n",
       "55                          0.013234  \n",
       "471                         0.012717  \n",
       "67                          0.012615  \n",
       "48                          0.011664  \n",
       "39                          0.011243  "
      ]
     },
     "execution_count": 33,
     "metadata": {},
     "output_type": "execute_result"
    }
   ],
   "source": [
    "max_date = data_no_outliers.created_time.max()\n",
    "post_age = data_no_outliers.created_time.apply(lambda x: pd.Timedelta(max_date - x, unit='minutes')).dt.seconds\n",
    "comment_count_by_post_lifespan = data_no_outliers.comments_count / post_age\n",
    "data['comment_count_by_post_lifespan'] = comment_count_by_post_lifespan\n",
    "data = data.sort_values(by='comment_count_by_post_lifespan', ascending=False)\n",
    "comments_nrz_no_outliars = data[['post_id', 'profile_id', 'username', 'is_verified', \n",
    "                                 'followers_count', 'comments_count', 'created_time', \n",
    "                                 'comment_count_by_post_lifespan']]\n",
    "comments_nrz_no_outliars.head(20)"
   ]
  },
  {
   "cell_type": "markdown",
   "id": "a3f63926-05f6-4552-8dac-c414b06b7aea",
   "metadata": {},
   "source": [
    "\n",
    "It is common knowledge that posts on social media have a spike in engagement usually close to post creation time.\n",
    "In our case we can only measure engagememt in comment counts.\n",
    "\n",
    "Better measure for engagemnt would be a size of the comment rate spike.\n",
    "But, we don't have each comment creation date to run such analysis.\n",
    "\n",
    "Therefore we make an assumption that the commenting rate is constant.\n",
    "Under the assumption of the constant commenting rate older posts would have more engagement (comment count) just by being older.\n",
    "\n",
    "Therefore, we made the normalization by post age and the results can be seen on the table above (let's call it Table 2)\n"
   ]
  },
  {
   "cell_type": "markdown",
   "id": "97f78de8-1923-48f1-9420-961aa2eeefe5",
   "metadata": {},
   "source": [
    "In conclusion, we can see top 20 posts with highest engagement on raw data (Table 1) as well as on normalized data (Table 2)"
   ]
  }
 ],
 "metadata": {
  "kernelspec": {
   "display_name": "Python 3 (ipykernel)",
   "language": "python",
   "name": "python3"
  },
  "language_info": {
   "codemirror_mode": {
    "name": "ipython",
    "version": 3
   },
   "file_extension": ".py",
   "mimetype": "text/x-python",
   "name": "python",
   "nbconvert_exporter": "python",
   "pygments_lexer": "ipython3",
   "version": "3.10.9"
  }
 },
 "nbformat": 4,
 "nbformat_minor": 5
}
